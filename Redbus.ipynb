{
 "cells": [
  {
   "cell_type": "code",
   "execution_count": null,
   "metadata": {},
   "outputs": [],
   "source": []
  },
  {
   "cell_type": "code",
   "execution_count": 5,
   "metadata": {},
   "outputs": [],
   "source": [
    "import selenium\n",
    "from selenium import webdriver\n",
    "from selenium.webdriver.common.by import By\n",
    "from selenium.webdriver.support.ui import WebDriverWait \n",
    "from selenium.webdriver.support import expected_conditions as EC\n",
    "from selenium.webdriver.common.keys import Keys\n",
    "import time\n",
    "from selenium.webdriver.common.action_chains import ActionChains\n",
    "#import pyautogui as py\n",
    "\n",
    "driver=webdriver.Chrome()\n",
    "driver.get('https://www.redbus.in/online-booking/apsrtc/?utm_source=rtchometile')\n",
    "a=driver.find_elements(By.CSS_SELECTOR,\"a[class='route']\")\n",
    "b=[]\n",
    "for i in a:\n",
    "    b.append(i.text)\n"
   ]
  },
  {
   "cell_type": "code",
   "execution_count": 8,
   "metadata": {},
   "outputs": [
    {
     "data": {
      "text/plain": [
       "['Hyderabad to Vijayawada',\n",
       " 'Vijayawada to Hyderabad',\n",
       " 'Hyderabad to Ongole',\n",
       " 'Kakinada to Visakhapatnam',\n",
       " 'Bangalore to Tirupati',\n",
       " 'Bangalore to Kadapa',\n",
       " 'Ongole to Hyderabad',\n",
       " 'Kadapa to Bangalore',\n",
       " 'Chittoor (Andhra Pradesh) to Bangalore',\n",
       " 'Visakhapatnam to Kakinada']"
      ]
     },
     "execution_count": 8,
     "metadata": {},
     "output_type": "execute_result"
    }
   ],
   "source": [
    "b"
   ]
  },
  {
   "cell_type": "code",
   "execution_count": null,
   "metadata": {},
   "outputs": [],
   "source": [
    "driver=webdriver.Chrome()\n",
    "driver.get(\"https://www.redbus.in/online-booking/ksrtc-kerala/?utm_source=rtchometile\")\n",
    "action=ActionChains(driver) # to initialize mouse\n",
    "\n",
    "\n",
    "p=1\n",
    "\n",
    "for j in range(1,3):\n",
    "    \n",
    "    scroll=driver.find_element(By.CSS_SELECTOR,f'.DC_117_paginationTable>.DC_117_pageTabs:nth-child({j})')#element-singular -variable not list\n",
    "    action.move_to_element(scroll).click().perform()\n",
    "    route_collected=[]\n",
    "    c=driver.find_elements(By.CLASS_NAME,\"route\")# elements- plural is for find all the element by having classname \"route\", output into the list\n",
    "    route_collected.extend([i.text for i in c])# output saved as strings in list\n",
    "    \n",
    "    for i in route_collected:\n",
    "        d=driver.find_element(By.LINK_TEXT,i) #i->vijayawadto hyderabad\n",
    "        action.move_to_element(d).click().perform()\n",
    "        busdetails(i,p)\n",
    "   \n",
    "    p+=1 "
   ]
  },
  {
   "cell_type": "code",
   "execution_count": null,
   "metadata": {},
   "outputs": [],
   "source": [
    "def busdetails(i,p):\n",
    "   \n",
    "    time.sleep(10) #implicit wait\n",
    "    #c=driver.find_element(By.CSS_SELECTOR,'div[class=\"button\"]')\n",
    "    #action.move_to_element(c).click()\n",
    "    wait=WebDriverWait(driver,100) #explicit wait\n",
    "    try:\n",
    "        asrpt= driver.find_element(By.CSS_SELECTOR, \"#result-section>div:nth-child(1) .button\")\n",
    "        driver.execute_script(\"arguments[0].scrollIntoView();\", asrpt) #to scrolll the element #scrollintoview\n",
    "        action.move_to_element(asrpt).click().perform()\n",
    "    except:\n",
    "        print('no data')    \n",
    "    \n",
    "    try:\n",
    "        element=driver.find_element(By.CSS_SELECTOR,\"#result-section>div:nth-child(2) .button\")\n",
    "        driver.execute_script(\"arguments[0].scrollIntoView();\", element)\n",
    "        action.move_to_element(element).click().perform()\n",
    "    except:\n",
    "        print(\"nodatafound\")    \n",
    "    element = WebDriverWait(driver, 30).until(EC.presence_of_all_elements_located((By.XPATH,'//div[@class=\"clearfix bus-item\"]')))\n",
    "    #body = driver.find_element(By.TAG_NAME, 'body')\n",
    "    element1=driver.find_element(By.CSS_SELECTOR,\"div[class='copyright_social_section']\")\n",
    "    driver.execute_script(\"arguments[0].scrollIntoView();\", element)\n",
    "    action.move_to_element(element1).click().perform()\n",
    "     \n",
    "    buses = driver.find_elements(By.XPATH,'//div[@class=\"clearfix bus-item-details\"]') #div[class=\"clearfix bus-item-details\"] #[292selenium]\n",
    "    \n",
    "    for bus in buses:#bus -> selenium\n",
    "        name = bus.find_element(By.CSS_SELECTOR, \".travels\").text\n",
    "        type = bus.find_element(By.CSS_SELECTOR,\".bus-type\").text\n",
    "        departure_time = bus.find_element(By.CSS_SELECTOR, \".dp-time\").text\n",
    "        arrival_time = bus.find_element(By.CSS_SELECTOR, \".bp-time\").text\n",
    "        duration = bus.find_element(By.CSS_SELECTOR, \".dur\").text\n",
    "        price = bus.find_element(By.CSS_SELECTOR, \".fare\").text\n",
    "        seats_available=bus.find_element(By.CSS_SELECTOR,\".seat-left\").text\n",
    "        try:\n",
    "            rating = bus.find_element(By.CSS_SELECTOR, \".rating-sec .rating\").text\n",
    "        except:\n",
    "            rating = \"No rating\"\n",
    "\n",
    "        kerala_bus_details.append({\n",
    "            \"route\": i,\n",
    "            \"route-collected\":driver.current_url,\n",
    "            \"name\": name,\n",
    "            \"type\":type,\n",
    "            \"departure_time\": departure_time,\n",
    "            \"arrival_time\": arrival_time,\n",
    "            \"duration\": duration,\n",
    "            \"price\": price,\n",
    "            \"seats_available\":seats_available,\n",
    "            \"rating\": rating\n",
    "        })\n",
    "        \n",
    "    max_attempts = 10\n",
    "    attempts = 0\n",
    "    while attempts < max_attempts:\n",
    "        py.hotkey('alt', 'left') # to back to the previous page\n",
    "        time.sleep(1)\n",
    "        try:\n",
    "            WebDriverWait(driver,10).until(EC.element_to_be_clickable((By.CLASS_NAME, \"route\"))) # until it get the \"route...\"\n",
    "            break\n",
    "        except:\n",
    "            attempts += 1\n",
    "    \n",
    "    scroll=driver.find_element(By.CSS_SELECTOR,f'.DC_117_paginationTable>.DC_117_pageTabs:nth-child({p})')        \n",
    "    action.move_to_element(scroll).click().perform() "
   ]
  },
  {
   "cell_type": "code",
   "execution_count": null,
   "metadata": {},
   "outputs": [],
   "source": [
    "[{'route':route,'routecolleecte':},{},{}]"
   ]
  },
  {
   "cell_type": "code",
   "execution_count": 12,
   "metadata": {},
   "outputs": [],
   "source": [
    "c=[1,2,3]\n",
    "d=4\n",
    "c.append(d)"
   ]
  },
  {
   "cell_type": "code",
   "execution_count": 13,
   "metadata": {},
   "outputs": [
    {
     "data": {
      "text/plain": [
       "[1, 2, 3, 4]"
      ]
     },
     "execution_count": 13,
     "metadata": {},
     "output_type": "execute_result"
    }
   ],
   "source": [
    "c"
   ]
  },
  {
   "cell_type": "code",
   "execution_count": null,
   "metadata": {},
   "outputs": [],
   "source": [
    "#result-section>div .button # is to select grandchild \n",
    "#result-section>div>.button # is to select child\n",
    "#result-section-# father\n",
    "div> ---is child\n",
    ".button --->is grand child"
   ]
  }
 ],
 "metadata": {
  "kernelspec": {
   "display_name": "Python 3",
   "language": "python",
   "name": "python3"
  },
  "language_info": {
   "codemirror_mode": {
    "name": "ipython",
    "version": 3
   },
   "file_extension": ".py",
   "mimetype": "text/x-python",
   "name": "python",
   "nbconvert_exporter": "python",
   "pygments_lexer": "ipython3",
   "version": "3.12.6"
  }
 },
 "nbformat": 4,
 "nbformat_minor": 2
}
