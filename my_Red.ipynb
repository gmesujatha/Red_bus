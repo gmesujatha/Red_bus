import selenium
from selenium import webdriver
from selenium.webdriver.common.by import By
from selenium.webdriver.support.ui import WebDriverWait 
from selenium.webdriver.support import expected_conditions as EC
from selenium.webdriver.common.keys import Keys
import time
from selenium.webdriver.common.action_chains import ActionChains
import pyautogui as py
kerala_bus_details=[]

def busdetails(i,p):
   
    time.sleep(10)
    #c=driver.find_element(By.CSS_SELECTOR,'div[class="button"]')
    #action.move_to_element(c).click()
    wait=WebDriverWait(driver,100)
    try:
        asrpt= driver.find_element(By.CSS_SELECTOR, "#result-section>div:nth-child(1) .button")
        driver.execute_script("arguments[0].scrollIntoView();", asrpt)
        action.move_to_element(asrpt).click().perform()
    except:
        print('no data')    
    
    try:
        element=driver.find_element(By.CSS_SELECTOR,"#result-section>div:nth-child(2) .button")
        driver.execute_script("arguments[0].scrollIntoView();", element)
        action.move_to_element(element).click().perform()
    except:
        print("nodatafound")    
    element = WebDriverWait(driver, 30).until(EC.presence_of_all_elements_located((By.XPATH,'//div[@class="clearfix bus-item"]')))
    #body = driver.find_element(By.TAG_NAME, 'body')
    try:
        element1=driver.find_element(By.CSS_SELECTOR,"div[class='copyright_social_section']")
        driver.execute_script("arguments[0].scrollIntoView();", element)
        action.move_to_element(element1).click().perform()
    except:
        print('nodata')    
     
    buses = driver.find_elements(By.XPATH,'//div[@class="clearfix bus-item-details"]')
    
    for bus in buses:
        name = bus.find_element(By.CSS_SELECTOR, ".travels").text
        type = bus.find_element(By.CSS_SELECTOR,".bus-type").text
        departure_time = bus.find_element(By.CSS_SELECTOR, ".dp-time").text
        arrival_time = bus.find_element(By.CSS_SELECTOR, ".bp-time").text
        duration = bus.find_element(By.CSS_SELECTOR, ".dur").text
        price = bus.find_element(By.CSS_SELECTOR, ".fare").text
        seats_available=bus.find_element(By.CSS_SELECTOR,".seat-left").text
        try:
            rating = bus.find_element(By.CSS_SELECTOR, ".rating-sec .rating").text
        except:
            rating = "No rating"

        kerala_bus_details.append({
            "route": i,
            "route-collected":driver.current_url,
            "name": name,
            "type":type,
            "departure_time": departure_time,
            "arrival_time": arrival_time,
            "duration": duration,
            "price": price,
            "seats_available":seats_available,
            "rating": rating
        })
        
    max_attempts = 10
    attempts = 0
    while attempts < max_attempts:
        py.hotkey('alt', 'left')
        time.sleep(1)
        try:
            WebDriverWait(driver,10).until(EC.element_to_be_clickable((By.CLASS_NAME, "route")))
            break
        except:
            attempts += 1
    
    scroll=driver.find_element(By.CSS_SELECTOR,f'.DC_117_paginationTable>.DC_117_pageTabs:nth-child({p})')        
    action.move_to_element(scroll).click().perform()      
       


driver=webdriver.Chrome()
driver.get("https://www.redbus.in/online-booking/ksrtc-kerala/?utm_source=rtchometile")
action=ActionChains(driver)


p=1

for j in range(1,3):
    
    scroll=driver.find_element(By.CSS_SELECTOR,f'.DC_117_paginationTable>.DC_117_pageTabs:nth-child({j})')
    action.move_to_element(scroll).click().perform()
    route_collected=[]
    c=driver.find_elements(By.CLASS_NAME,"route")
    route_collected.extend([i.text for i in c])
    
    for i in route_collected:
        d=driver.find_element(By.LINK_TEXT,i)
        action.move_to_element(d).click().perform()
        busdetails(i,p)
   
    p+=1    
    
